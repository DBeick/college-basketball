{
 "cells": [
  {
   "cell_type": "markdown",
   "id": "a6d5aa16",
   "metadata": {},
   "source": [
    "# College Basketball Data Analysis\n",
    "\n",
    "Doug Beick | Udacity Data Scientist Nanodegree\\\n",
    "April, 2021\n",
    "\n",
    "The goal in this project is to take data from multiple seasons of college basketball to assess team and conference performance, both in season and postseason.\n",
    "\n",
    "---\n",
    "## 2_clean_prepare\n",
    "\n",
    "Using pre-sourced data on NCAA men's basketball performance for years 2013-2019, this notebook\n",
    "builds a single large data source, including the addition of four columns for later use.\n",
    "\n",
    "This notebook needs only be run once to build the dataset. Since we export to csv, later analysis\n",
    "should already have the dataset ready."
   ]
  },
  {
   "cell_type": "markdown",
   "id": "ea50206a",
   "metadata": {},
   "source": [
    "### Helpers"
   ]
  },
  {
   "cell_type": "code",
   "execution_count": 1,
   "id": "c6d40555",
   "metadata": {},
   "outputs": [],
   "source": [
    "import pandas as pd\n",
    "\n",
    "#Dictionary denoting how many teams equalled/excelled a given team's postseason performance, inclusive\n",
    "postseason_encode_dict = {\n",
    "    'Champions': 1,\n",
    "    '2ND': 2,\n",
    "    'F4': 4,\n",
    "    'E8': 8,\n",
    "    'S16': 16,\n",
    "    'R32': 32,\n",
    "    'R64': 64,\n",
    "    'R68': 68,\n",
    "}\n",
    "\n",
    "#Dictionary of [extra games, extra wins] a team earned, based on postseason performance\n",
    "tourney_g_w_dict = {\n",
    "    'Champions': [6, 6],\n",
    "    '2ND': [6, 5],\n",
    "    'F4': [5, 4],\n",
    "    'E8': [4, 3],\n",
    "    'S16': [3, 2],\n",
    "    'R32': [2, 1],\n",
    "    'R64': [1, 0],\n",
    "    'R68': [1, 0],\n",
    "}\n",
    "\n",
    "#Ordering for columns\n",
    "col_ordered = ['TEAM', 'CONF', 'G', 'W', 'PRE_PC', 'POST_PC', 'ADJOE', 'ADJDE', 'BARTHAG', 'EFG_O', 'EFG_D',\n",
    "       'TOR', 'TORD', 'ORB', 'DRB', 'FTR', 'FTRD', '2P_O', '2P_D', '3P_O',\n",
    "       '3P_D', 'ADJ_T', 'WAB', 'POSTSEASON', 'SEED', 'PFPC', 'YEAR']"
   ]
  },
  {
   "cell_type": "markdown",
   "id": "b3426bca",
   "metadata": {},
   "source": [
    "### Clean and prepare data"
   ]
  },
  {
   "cell_type": "code",
   "execution_count": 2,
   "id": "34c12755",
   "metadata": {},
   "outputs": [],
   "source": [
    "df_dict = {}\n",
    "for i in range(3,10):\n",
    "    df = pd.read_csv('datasets/cbb1{0}.csv'.format(i))\n",
    "    team_count = len(df)\n",
    "    \n",
    "    #Column denoting season\n",
    "    df['YEAR'] = '201{0}'.format(i)\n",
    "    \n",
    "    #Column denoting performance percentile of the team, based on postseason finish\n",
    "    df['PFPC'] = df.apply(lambda row: round((team_count+1 - postseason_encode_dict[row.POSTSEASON])/team_count, 4)\n",
    "                                  if not pd.isnull(row.POSTSEASON)\n",
    "                                  else 0, axis = 1)\n",
    "    \n",
    "    #Column denoting win percentage of team, prior to postseason tournament\n",
    "    df['PRE_PC'] = df.apply(lambda row: round((row.W - tourney_g_w_dict[row.POSTSEASON][1])\n",
    "                                                            /(row.G - tourney_g_w_dict[row.POSTSEASON][0]), 4)\n",
    "                                               if not pd.isnull(row.POSTSEASON)\n",
    "                                               else round((row.W / row.G), 4), axis = 1)\n",
    "    \n",
    "    #Column denoting win percentage of team, following postseason tournament\n",
    "    df['POST_PC'] = df.apply(lambda row: round((row.W/row.G), 4), axis = 1)\n",
    "    \n",
    "    #Invert column out of 100, to properly reflect defensive rate, instead of previous representation\n",
    "    #  which was offensive rate allowed\n",
    "    df['DRB'] = df.apply(lambda row: 100 - row.DRB, axis=1)\n",
    "    \n",
    "    #Fix inconsistent labels in CONF column\n",
    "    df['CONF'] = df.apply(lambda row: row.CONF.capitalize()\n",
    "                         if row.CONF == 'ind'\n",
    "                         else row.CONF, axis = 1)\n",
    "    \n",
    "    df = df[col_ordered]\n",
    "    df_dict[\"csv1{0}\".format(i)] = df\n",
    "     \n",
    "dfAll = pd.concat(df_dict.values()).sort_values(by=['YEAR', 'PFPC', 'SEED', 'W'], ascending=[True, False, True, False])"
   ]
  },
  {
   "cell_type": "markdown",
   "id": "c7055077",
   "metadata": {},
   "source": [
    "### Export to csv"
   ]
  },
  {
   "cell_type": "code",
   "execution_count": 3,
   "id": "6d7e07e3",
   "metadata": {},
   "outputs": [],
   "source": [
    "dfAll.to_csv('datasets/cbbAll.csv', index=False)"
   ]
  }
 ],
 "metadata": {
  "kernelspec": {
   "display_name": "Python 3",
   "language": "python",
   "name": "python3"
  },
  "language_info": {
   "codemirror_mode": {
    "name": "ipython",
    "version": 3
   },
   "file_extension": ".py",
   "mimetype": "text/x-python",
   "name": "python",
   "nbconvert_exporter": "python",
   "pygments_lexer": "ipython3",
   "version": "3.7.9"
  }
 },
 "nbformat": 4,
 "nbformat_minor": 5
}
