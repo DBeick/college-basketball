{
 "cells": [
  {
   "cell_type": "markdown",
   "id": "52dd544c",
   "metadata": {},
   "source": [
    "# College Basketball Data Analysis\n",
    "\n",
    "Doug Beick | Udacity Data Scientist Nanodegree\\\n",
    "April, 2021\n",
    "\n",
    "The goal in this project is to take data from multiple seasons of college basketball to assess team and conference performance, both in season and postseason.\n",
    "\n",
    "---\n",
    "## 1_understand_explore"
   ]
  },
  {
   "cell_type": "markdown",
   "id": "04f1b457",
   "metadata": {},
   "source": [
    "## Business Understanding\n",
    "\n",
    "We can assess performance in sports at the most basic level by looking at wins and losses. In collegiate basketball, there are two main periods of performance, wherein teams want to accumulate wins: the regular season, predominantly in  conference play, and the postseason, in a single-elimination championship tournament. Teams compete in the regular season for bragging rights and conference championships, as well as for a better performance record, which leads to favorable seeding in the postseason tournament.  \n",
    "I want to explore which teams are best poised for success. Since the bulk of the regular season is played in conference, it's worth investigating if there is a natural advantage to being in one conference versus another when the postseason tournament rolls around. Put another way, does a team's conference affiliation have any more effect on their postseason seed than that team's in-game performance, on offense and on defense? We can break down this investigation into three main parts:\n",
    "1. Analyze for differences between conferences in average in-game metrics. Which conferences produce the best offenses and the best defenses?\n",
    "2. Analysis of in-game performance in general. Is a team with a better offense or a better defense more likely to have the most wins at the end of the season, including after the postseason tournament?\n",
    "3. Analysis of how conference affiliation relates to seeding in general. Is there evidence of bias in favor of certain conferences, particularly the \"Major\" conferences, in the seeding of the postseason tournament?"
   ]
  },
  {
   "cell_type": "markdown",
   "id": "d11253fb",
   "metadata": {},
   "source": [
    "## Data Understanding\n",
    "\n",
    "I found a [collection of data sets on Kaggle](https://www.kaggle.com/andrewsundberg/college-basketball-dataset) which appear applicable to this project. Following is initial exploration of the data"
   ]
  },
  {
   "cell_type": "code",
   "execution_count": 7,
   "id": "054c3cd3",
   "metadata": {},
   "outputs": [],
   "source": [
    "import pandas as pd\n",
    "import numpy as np\n",
    "import matplotlib.pyplot as plt"
   ]
  },
  {
   "cell_type": "code",
   "execution_count": 8,
   "id": "879183ac",
   "metadata": {},
   "outputs": [
    {
     "data": {
      "text/plain": [
       "TEAM           object\n",
       "CONF           object\n",
       "G               int64\n",
       "W               int64\n",
       "ADJOE         float64\n",
       "ADJDE         float64\n",
       "BARTHAG       float64\n",
       "EFG_O         float64\n",
       "EFG_D         float64\n",
       "TOR           float64\n",
       "TORD          float64\n",
       "ORB           float64\n",
       "DRB           float64\n",
       "FTR           float64\n",
       "FTRD          float64\n",
       "2P_O          float64\n",
       "2P_D          float64\n",
       "3P_O          float64\n",
       "3P_D          float64\n",
       "ADJ_T         float64\n",
       "WAB           float64\n",
       "POSTSEASON     object\n",
       "SEED          float64\n",
       "YEAR           object\n",
       "dtype: object"
      ]
     },
     "execution_count": 8,
     "metadata": {},
     "output_type": "execute_result"
    }
   ],
   "source": [
    "df_13 = pd.read_csv('datasets/cbb13.csv')\n",
    "# Add YEAR column to keep track of original data source\n",
    "df_13['YEAR'] = '2013'\n",
    "df_13.dtypes"
   ]
  },
  {
   "cell_type": "code",
   "execution_count": 9,
   "id": "96b817b3",
   "metadata": {},
   "outputs": [
    {
     "name": "stdout",
     "output_type": "stream",
     "text": [
      "SHAPE: (347, 24)\n"
     ]
    },
    {
     "data": {
      "text/html": [
       "<div>\n",
       "<style scoped>\n",
       "    .dataframe tbody tr th:only-of-type {\n",
       "        vertical-align: middle;\n",
       "    }\n",
       "\n",
       "    .dataframe tbody tr th {\n",
       "        vertical-align: top;\n",
       "    }\n",
       "\n",
       "    .dataframe thead th {\n",
       "        text-align: right;\n",
       "    }\n",
       "</style>\n",
       "<table border=\"1\" class=\"dataframe\">\n",
       "  <thead>\n",
       "    <tr style=\"text-align: right;\">\n",
       "      <th></th>\n",
       "      <th>TEAM</th>\n",
       "      <th>CONF</th>\n",
       "      <th>G</th>\n",
       "      <th>W</th>\n",
       "      <th>ADJOE</th>\n",
       "      <th>ADJDE</th>\n",
       "      <th>BARTHAG</th>\n",
       "      <th>EFG_O</th>\n",
       "      <th>EFG_D</th>\n",
       "      <th>TOR</th>\n",
       "      <th>...</th>\n",
       "      <th>FTRD</th>\n",
       "      <th>2P_O</th>\n",
       "      <th>2P_D</th>\n",
       "      <th>3P_O</th>\n",
       "      <th>3P_D</th>\n",
       "      <th>ADJ_T</th>\n",
       "      <th>WAB</th>\n",
       "      <th>POSTSEASON</th>\n",
       "      <th>SEED</th>\n",
       "      <th>YEAR</th>\n",
       "    </tr>\n",
       "  </thead>\n",
       "  <tbody>\n",
       "    <tr>\n",
       "      <th>0</th>\n",
       "      <td>Indiana</td>\n",
       "      <td>B10</td>\n",
       "      <td>36</td>\n",
       "      <td>29</td>\n",
       "      <td>121.0</td>\n",
       "      <td>89.7</td>\n",
       "      <td>0.9692</td>\n",
       "      <td>54.7</td>\n",
       "      <td>44.0</td>\n",
       "      <td>19.3</td>\n",
       "      <td>...</td>\n",
       "      <td>27.0</td>\n",
       "      <td>52.0</td>\n",
       "      <td>43.2</td>\n",
       "      <td>40.3</td>\n",
       "      <td>30.4</td>\n",
       "      <td>67.8</td>\n",
       "      <td>7.8</td>\n",
       "      <td>S16</td>\n",
       "      <td>1.0</td>\n",
       "      <td>2013</td>\n",
       "    </tr>\n",
       "    <tr>\n",
       "      <th>1</th>\n",
       "      <td>Gonzaga</td>\n",
       "      <td>WCC</td>\n",
       "      <td>34</td>\n",
       "      <td>31</td>\n",
       "      <td>118.9</td>\n",
       "      <td>90.2</td>\n",
       "      <td>0.9599</td>\n",
       "      <td>54.9</td>\n",
       "      <td>44.9</td>\n",
       "      <td>17.2</td>\n",
       "      <td>...</td>\n",
       "      <td>29.9</td>\n",
       "      <td>55.0</td>\n",
       "      <td>42.1</td>\n",
       "      <td>36.5</td>\n",
       "      <td>32.9</td>\n",
       "      <td>65.1</td>\n",
       "      <td>7.6</td>\n",
       "      <td>R32</td>\n",
       "      <td>1.0</td>\n",
       "      <td>2013</td>\n",
       "    </tr>\n",
       "    <tr>\n",
       "      <th>2</th>\n",
       "      <td>Kansas</td>\n",
       "      <td>B12</td>\n",
       "      <td>37</td>\n",
       "      <td>31</td>\n",
       "      <td>111.6</td>\n",
       "      <td>86.2</td>\n",
       "      <td>0.9514</td>\n",
       "      <td>53.3</td>\n",
       "      <td>41.5</td>\n",
       "      <td>20.3</td>\n",
       "      <td>...</td>\n",
       "      <td>32.0</td>\n",
       "      <td>52.9</td>\n",
       "      <td>39.3</td>\n",
       "      <td>36.4</td>\n",
       "      <td>30.3</td>\n",
       "      <td>67.7</td>\n",
       "      <td>7.5</td>\n",
       "      <td>S16</td>\n",
       "      <td>1.0</td>\n",
       "      <td>2013</td>\n",
       "    </tr>\n",
       "    <tr>\n",
       "      <th>3</th>\n",
       "      <td>Louisville</td>\n",
       "      <td>BE</td>\n",
       "      <td>40</td>\n",
       "      <td>35</td>\n",
       "      <td>115.9</td>\n",
       "      <td>84.5</td>\n",
       "      <td>0.9743</td>\n",
       "      <td>50.6</td>\n",
       "      <td>44.8</td>\n",
       "      <td>18.3</td>\n",
       "      <td>...</td>\n",
       "      <td>34.9</td>\n",
       "      <td>50.8</td>\n",
       "      <td>43.4</td>\n",
       "      <td>33.3</td>\n",
       "      <td>31.8</td>\n",
       "      <td>67.1</td>\n",
       "      <td>9.0</td>\n",
       "      <td>Champions</td>\n",
       "      <td>1.0</td>\n",
       "      <td>2013</td>\n",
       "    </tr>\n",
       "    <tr>\n",
       "      <th>4</th>\n",
       "      <td>Georgetown</td>\n",
       "      <td>BE</td>\n",
       "      <td>32</td>\n",
       "      <td>25</td>\n",
       "      <td>107.6</td>\n",
       "      <td>85.0</td>\n",
       "      <td>0.9381</td>\n",
       "      <td>51.1</td>\n",
       "      <td>43.0</td>\n",
       "      <td>20.1</td>\n",
       "      <td>...</td>\n",
       "      <td>35.3</td>\n",
       "      <td>50.2</td>\n",
       "      <td>41.4</td>\n",
       "      <td>35.3</td>\n",
       "      <td>30.7</td>\n",
       "      <td>62.5</td>\n",
       "      <td>6.6</td>\n",
       "      <td>R64</td>\n",
       "      <td>2.0</td>\n",
       "      <td>2013</td>\n",
       "    </tr>\n",
       "  </tbody>\n",
       "</table>\n",
       "<p>5 rows × 24 columns</p>\n",
       "</div>"
      ],
      "text/plain": [
       "         TEAM CONF   G   W  ADJOE  ADJDE  BARTHAG  EFG_O  EFG_D   TOR  ...  \\\n",
       "0     Indiana  B10  36  29  121.0   89.7   0.9692   54.7   44.0  19.3  ...   \n",
       "1     Gonzaga  WCC  34  31  118.9   90.2   0.9599   54.9   44.9  17.2  ...   \n",
       "2      Kansas  B12  37  31  111.6   86.2   0.9514   53.3   41.5  20.3  ...   \n",
       "3  Louisville   BE  40  35  115.9   84.5   0.9743   50.6   44.8  18.3  ...   \n",
       "4  Georgetown   BE  32  25  107.6   85.0   0.9381   51.1   43.0  20.1  ...   \n",
       "\n",
       "   FTRD  2P_O  2P_D  3P_O  3P_D  ADJ_T  WAB  POSTSEASON  SEED  YEAR  \n",
       "0  27.0  52.0  43.2  40.3  30.4   67.8  7.8         S16   1.0  2013  \n",
       "1  29.9  55.0  42.1  36.5  32.9   65.1  7.6         R32   1.0  2013  \n",
       "2  32.0  52.9  39.3  36.4  30.3   67.7  7.5         S16   1.0  2013  \n",
       "3  34.9  50.8  43.4  33.3  31.8   67.1  9.0   Champions   1.0  2013  \n",
       "4  35.3  50.2  41.4  35.3  30.7   62.5  6.6         R64   2.0  2013  \n",
       "\n",
       "[5 rows x 24 columns]"
      ]
     },
     "execution_count": 9,
     "metadata": {},
     "output_type": "execute_result"
    }
   ],
   "source": [
    "print('SHAPE:', df_13.shape)\n",
    "df_13.head()"
   ]
  },
  {
   "cell_type": "code",
   "execution_count": 10,
   "id": "a6bb1314",
   "metadata": {},
   "outputs": [
    {
     "name": "stdout",
     "output_type": "stream",
     "text": [
      "True\n"
     ]
    }
   ],
   "source": [
    "# Make sure all data sets have the same columns and types\n",
    "df_list = []\n",
    "for i in range(3,10):\n",
    "    df_cur = pd.read_csv('datasets/cbb1{0}.csv'.format(i))\n",
    "    df_cur['YEAR'] = '201{0}'.format(i)\n",
    "    df_list.append(df_cur)\n",
    "\n",
    "# Use df_13 as baseline. If there are no differences among the data,\n",
    "##  then all dtypes are equivalent and val remains True\n",
    "\n",
    "val = True\n",
    "for df in df_list:\n",
    "    if df_13.dtypes.all() != df.dtypes.all():\n",
    "        val = False\n",
    "print(val)"
   ]
  },
  {
   "cell_type": "code",
   "execution_count": 11,
   "id": "3a88102c",
   "metadata": {},
   "outputs": [
    {
     "name": "stdout",
     "output_type": "stream",
     "text": [
      "SHAPE: (2455, 24)\n"
     ]
    },
    {
     "data": {
      "text/html": [
       "<div>\n",
       "<style scoped>\n",
       "    .dataframe tbody tr th:only-of-type {\n",
       "        vertical-align: middle;\n",
       "    }\n",
       "\n",
       "    .dataframe tbody tr th {\n",
       "        vertical-align: top;\n",
       "    }\n",
       "\n",
       "    .dataframe thead th {\n",
       "        text-align: right;\n",
       "    }\n",
       "</style>\n",
       "<table border=\"1\" class=\"dataframe\">\n",
       "  <thead>\n",
       "    <tr style=\"text-align: right;\">\n",
       "      <th></th>\n",
       "      <th>TEAM</th>\n",
       "      <th>CONF</th>\n",
       "      <th>G</th>\n",
       "      <th>W</th>\n",
       "      <th>ADJOE</th>\n",
       "      <th>ADJDE</th>\n",
       "      <th>BARTHAG</th>\n",
       "      <th>EFG_O</th>\n",
       "      <th>EFG_D</th>\n",
       "      <th>TOR</th>\n",
       "      <th>...</th>\n",
       "      <th>FTRD</th>\n",
       "      <th>2P_O</th>\n",
       "      <th>2P_D</th>\n",
       "      <th>3P_O</th>\n",
       "      <th>3P_D</th>\n",
       "      <th>ADJ_T</th>\n",
       "      <th>WAB</th>\n",
       "      <th>POSTSEASON</th>\n",
       "      <th>SEED</th>\n",
       "      <th>YEAR</th>\n",
       "    </tr>\n",
       "  </thead>\n",
       "  <tbody>\n",
       "    <tr>\n",
       "      <th>0</th>\n",
       "      <td>Indiana</td>\n",
       "      <td>B10</td>\n",
       "      <td>36</td>\n",
       "      <td>29</td>\n",
       "      <td>121.0</td>\n",
       "      <td>89.7</td>\n",
       "      <td>0.9692</td>\n",
       "      <td>54.7</td>\n",
       "      <td>44.0</td>\n",
       "      <td>19.3</td>\n",
       "      <td>...</td>\n",
       "      <td>27.0</td>\n",
       "      <td>52.0</td>\n",
       "      <td>43.2</td>\n",
       "      <td>40.3</td>\n",
       "      <td>30.4</td>\n",
       "      <td>67.8</td>\n",
       "      <td>7.8</td>\n",
       "      <td>S16</td>\n",
       "      <td>1.0</td>\n",
       "      <td>2013</td>\n",
       "    </tr>\n",
       "    <tr>\n",
       "      <th>1</th>\n",
       "      <td>Gonzaga</td>\n",
       "      <td>WCC</td>\n",
       "      <td>34</td>\n",
       "      <td>31</td>\n",
       "      <td>118.9</td>\n",
       "      <td>90.2</td>\n",
       "      <td>0.9599</td>\n",
       "      <td>54.9</td>\n",
       "      <td>44.9</td>\n",
       "      <td>17.2</td>\n",
       "      <td>...</td>\n",
       "      <td>29.9</td>\n",
       "      <td>55.0</td>\n",
       "      <td>42.1</td>\n",
       "      <td>36.5</td>\n",
       "      <td>32.9</td>\n",
       "      <td>65.1</td>\n",
       "      <td>7.6</td>\n",
       "      <td>R32</td>\n",
       "      <td>1.0</td>\n",
       "      <td>2013</td>\n",
       "    </tr>\n",
       "    <tr>\n",
       "      <th>2</th>\n",
       "      <td>Kansas</td>\n",
       "      <td>B12</td>\n",
       "      <td>37</td>\n",
       "      <td>31</td>\n",
       "      <td>111.6</td>\n",
       "      <td>86.2</td>\n",
       "      <td>0.9514</td>\n",
       "      <td>53.3</td>\n",
       "      <td>41.5</td>\n",
       "      <td>20.3</td>\n",
       "      <td>...</td>\n",
       "      <td>32.0</td>\n",
       "      <td>52.9</td>\n",
       "      <td>39.3</td>\n",
       "      <td>36.4</td>\n",
       "      <td>30.3</td>\n",
       "      <td>67.7</td>\n",
       "      <td>7.5</td>\n",
       "      <td>S16</td>\n",
       "      <td>1.0</td>\n",
       "      <td>2013</td>\n",
       "    </tr>\n",
       "    <tr>\n",
       "      <th>3</th>\n",
       "      <td>Louisville</td>\n",
       "      <td>BE</td>\n",
       "      <td>40</td>\n",
       "      <td>35</td>\n",
       "      <td>115.9</td>\n",
       "      <td>84.5</td>\n",
       "      <td>0.9743</td>\n",
       "      <td>50.6</td>\n",
       "      <td>44.8</td>\n",
       "      <td>18.3</td>\n",
       "      <td>...</td>\n",
       "      <td>34.9</td>\n",
       "      <td>50.8</td>\n",
       "      <td>43.4</td>\n",
       "      <td>33.3</td>\n",
       "      <td>31.8</td>\n",
       "      <td>67.1</td>\n",
       "      <td>9.0</td>\n",
       "      <td>Champions</td>\n",
       "      <td>1.0</td>\n",
       "      <td>2013</td>\n",
       "    </tr>\n",
       "    <tr>\n",
       "      <th>4</th>\n",
       "      <td>Georgetown</td>\n",
       "      <td>BE</td>\n",
       "      <td>32</td>\n",
       "      <td>25</td>\n",
       "      <td>107.6</td>\n",
       "      <td>85.0</td>\n",
       "      <td>0.9381</td>\n",
       "      <td>51.1</td>\n",
       "      <td>43.0</td>\n",
       "      <td>20.1</td>\n",
       "      <td>...</td>\n",
       "      <td>35.3</td>\n",
       "      <td>50.2</td>\n",
       "      <td>41.4</td>\n",
       "      <td>35.3</td>\n",
       "      <td>30.7</td>\n",
       "      <td>62.5</td>\n",
       "      <td>6.6</td>\n",
       "      <td>R64</td>\n",
       "      <td>2.0</td>\n",
       "      <td>2013</td>\n",
       "    </tr>\n",
       "  </tbody>\n",
       "</table>\n",
       "<p>5 rows × 24 columns</p>\n",
       "</div>"
      ],
      "text/plain": [
       "         TEAM CONF   G   W  ADJOE  ADJDE  BARTHAG  EFG_O  EFG_D   TOR  ...  \\\n",
       "0     Indiana  B10  36  29  121.0   89.7   0.9692   54.7   44.0  19.3  ...   \n",
       "1     Gonzaga  WCC  34  31  118.9   90.2   0.9599   54.9   44.9  17.2  ...   \n",
       "2      Kansas  B12  37  31  111.6   86.2   0.9514   53.3   41.5  20.3  ...   \n",
       "3  Louisville   BE  40  35  115.9   84.5   0.9743   50.6   44.8  18.3  ...   \n",
       "4  Georgetown   BE  32  25  107.6   85.0   0.9381   51.1   43.0  20.1  ...   \n",
       "\n",
       "   FTRD  2P_O  2P_D  3P_O  3P_D  ADJ_T  WAB  POSTSEASON  SEED  YEAR  \n",
       "0  27.0  52.0  43.2  40.3  30.4   67.8  7.8         S16   1.0  2013  \n",
       "1  29.9  55.0  42.1  36.5  32.9   65.1  7.6         R32   1.0  2013  \n",
       "2  32.0  52.9  39.3  36.4  30.3   67.7  7.5         S16   1.0  2013  \n",
       "3  34.9  50.8  43.4  33.3  31.8   67.1  9.0   Champions   1.0  2013  \n",
       "4  35.3  50.2  41.4  35.3  30.7   62.5  6.6         R64   2.0  2013  \n",
       "\n",
       "[5 rows x 24 columns]"
      ]
     },
     "execution_count": 11,
     "metadata": {},
     "output_type": "execute_result"
    }
   ],
   "source": [
    "# Build a large data set to look at aggregates\n",
    "\n",
    "df_all = pd.concat(df_list)\n",
    "\n",
    "print('SHAPE:', df_all.shape)\n",
    "df_all.head()"
   ]
  },
  {
   "cell_type": "markdown",
   "id": "6ef90cbf",
   "metadata": {},
   "source": [
    "### Look at columns that relate to our questions"
   ]
  },
  {
   "cell_type": "code",
   "execution_count": 12,
   "id": "a23e1111",
   "metadata": {},
   "outputs": [
    {
     "name": "stdout",
     "output_type": "stream",
     "text": [
      "NULLS: 0\n",
      "MIN: 76.6\n",
      "MAX: 129.1\n"
     ]
    },
    {
     "data": {
      "text/plain": [
       "<AxesSubplot:>"
      ]
     },
     "execution_count": 12,
     "metadata": {},
     "output_type": "execute_result"
    },
    {
     "data": {
      "image/png": "[encoded data removed]",
      "text/plain": [
       "<Figure size 432x288 with 1 Axes>"
      ]
     },
     "metadata": {
      "needs_background": "light"
     },
     "output_type": "display_data"
    }
   ],
   "source": [
    "# Offensive Efficiency characteristics\n",
    "joe = df_all['ADJOE']\n",
    "print('NULLS:', joe.isna().sum())\n",
    "print(\"MIN:\", joe.min())\n",
    "print(\"MAX:\", joe.max())\n",
    "joe.hist()"
   ]
  },
  {
   "cell_type": "code",
   "execution_count": 13,
   "id": "bb5fc228",
   "metadata": {},
   "outputs": [
    {
     "name": "stdout",
     "output_type": "stream",
     "text": [
      "NULLS: 0\n",
      "MIN: 84.0\n",
      "MAX: 124.0\n"
     ]
    },
    {
     "data": {
      "text/plain": [
       "<AxesSubplot:>"
      ]
     },
     "execution_count": 13,
     "metadata": {},
     "output_type": "execute_result"
    },
    {
     "data": {
      "image/png": "[encoded data removed]",
      "text/plain": [
       "<Figure size 432x288 with 1 Axes>"
      ]
     },
     "metadata": {
      "needs_background": "light"
     },
     "output_type": "display_data"
    }
   ],
   "source": [
    "# Defensive Efficiency characteristics\n",
    "jde = df_all['ADJDE']\n",
    "print('NULLS:', jde.isna().sum())\n",
    "print(\"MIN:\", jde.min())\n",
    "print(\"MAX:\", jde.max())\n",
    "jde.hist()"
   ]
  },
  {
   "cell_type": "code",
   "execution_count": 14,
   "id": "4b0b6b53",
   "metadata": {},
   "outputs": [
    {
     "name": "stdout",
     "output_type": "stream",
     "text": [
      "NULLS: 0\n",
      "MIN: 15\n",
      "MAX: 40\n"
     ]
    },
    {
     "data": {
      "text/plain": [
       "<AxesSubplot:>"
      ]
     },
     "execution_count": 14,
     "metadata": {},
     "output_type": "execute_result"
    },
    {
     "data": {
      "image/png": "[encoded data removed]",
      "text/plain": [
       "<Figure size 432x288 with 1 Axes>"
      ]
     },
     "metadata": {
      "needs_background": "light"
     },
     "output_type": "display_data"
    }
   ],
   "source": [
    "# Games characteristics\n",
    "games = df_all['G']\n",
    "print('NULLS:', games.isna().sum())\n",
    "print(\"MIN:\", games.min())\n",
    "print(\"MAX:\", games.max())\n",
    "games.hist()"
   ]
  },
  {
   "cell_type": "code",
   "execution_count": 15,
   "id": "b16fa1f9",
   "metadata": {},
   "outputs": [
    {
     "name": "stdout",
     "output_type": "stream",
     "text": [
      "NULLS: 0\n",
      "MIN: 0\n",
      "MAX: 38\n"
     ]
    },
    {
     "data": {
      "text/plain": [
       "<AxesSubplot:>"
      ]
     },
     "execution_count": 15,
     "metadata": {},
     "output_type": "execute_result"
    },
    {
     "data": {
      "image/png": "[encoded data removed]",
      "text/plain": [
       "<Figure size 432x288 with 1 Axes>"
      ]
     },
     "metadata": {
      "needs_background": "light"
     },
     "output_type": "display_data"
    }
   ],
   "source": [
    "# Wins characteristics\n",
    "wins = df_all['W']\n",
    "print('NULLS:', wins.isna().sum())\n",
    "print(\"MIN:\", wins.min())\n",
    "print(\"MAX:\", wins.max())\n",
    "wins.hist()"
   ]
  },
  {
   "cell_type": "markdown",
   "id": "2160a3ad",
   "metadata": {},
   "source": [
    "A bimodal distribution in the Wins column! Interesting. I would be curious to look into this more another time"
   ]
  },
  {
   "cell_type": "code",
   "execution_count": 16,
   "id": "e1c53cf0",
   "metadata": {},
   "outputs": [
    {
     "name": "stdout",
     "output_type": "stream",
     "text": [
      "NULLS: 1979\n",
      "VALS: 476\n"
     ]
    },
    {
     "data": {
      "text/plain": [
       "R64          224\n",
       "R32          112\n",
       "S16           56\n",
       "E8            28\n",
       "R68           28\n",
       "F4            14\n",
       "2ND            7\n",
       "Champions      7\n",
       "Name: POSTSEASON, dtype: int64"
      ]
     },
     "execution_count": 16,
     "metadata": {},
     "output_type": "execute_result"
    }
   ],
   "source": [
    "# Postseason characteristics\n",
    "\n",
    "ps = df_all['POSTSEASON']\n",
    "print('NULLS:', ps.isna().sum())\n",
    "print('VALS:', len(ps)-ps.isna().sum())\n",
    "\n",
    "ps.value_counts()"
   ]
  },
  {
   "cell_type": "code",
   "execution_count": 17,
   "id": "6d60ef94",
   "metadata": {},
   "outputs": [
    {
     "name": "stdout",
     "output_type": "stream",
     "text": [
      "NULLS: 1979\n",
      "VALS: 476\n"
     ]
    },
    {
     "data": {
      "text/plain": [
       "16.0    42\n",
       "11.0    41\n",
       "12.0    29\n",
       "13.0    29\n",
       "3.0     29\n",
       "15.0    28\n",
       "6.0     28\n",
       "2.0     28\n",
       "5.0     28\n",
       "1.0     28\n",
       "10.0    28\n",
       "8.0     28\n",
       "7.0     28\n",
       "14.0    28\n",
       "9.0     27\n",
       "4.0     27\n",
       "Name: SEED, dtype: int64"
      ]
     },
     "execution_count": 17,
     "metadata": {},
     "output_type": "execute_result"
    }
   ],
   "source": [
    "# Seed characteristics\n",
    "\n",
    "seed = df_all['SEED']\n",
    "print('NULLS:', seed.isna().sum())\n",
    "print('VALS:', len(seed)-seed.isna().sum())\n",
    "\n",
    "seed.value_counts()"
   ]
  },
  {
   "cell_type": "markdown",
   "id": "07951ff3",
   "metadata": {},
   "source": [
    "#### Errors in data\n",
    "\n",
    "Due to quirks in the seeding of the NCAA tournament, not every seed appears an equal number of times over the year.\n",
    "Based on which seeds were featured in the \"First Four\" play-in games, the cumulative counts should be:  \n",
    "16 - 42  \n",
    "11 - 40  \n",
    "12 - 29  \n",
    "13 - 29  \n",
    "all else - 28  \n",
    "This means we have mislabelings related to seeds 3, 4, 9, and 11. I look into this below, using a function to quickly run through the data based on these expected counts."
   ]
  },
  {
   "cell_type": "code",
   "execution_count": 18,
   "id": "f75f5b34",
   "metadata": {},
   "outputs": [],
   "source": [
    "def find_mislabeled_years(counts_dict, df):\n",
    "    '''\n",
    "    INPUT:\n",
    "    counts_dict - dictionary of dictionaries, where keys are years and values are dictionaries with:\n",
    "                    keys as a seed and value is how many teams in that year should have that seed\n",
    "    df - dataframe of college basketball data\n",
    "    \n",
    "    OUTPUT:\n",
    "    new df - subset of original dataframe showing just the candidates for mislabeling, with only team and year cols.\n",
    "    '''\n",
    "    new_df = pd.DataFrame()\n",
    "    for year in counts_dict:\n",
    "        for seed in counts_dict[year]:\n",
    "            seeded_df = df.loc[df['SEED'] == seed]\n",
    "            if len(seeded_df[seeded_df['YEAR']==year]) != counts_dict[year][seed]:\n",
    "                new_df = new_df.append(seeded_df.loc[seeded_df['YEAR']==year])[['TEAM', 'SEED', 'YEAR']]\n",
    "\n",
    "    return new_df"
   ]
  },
  {
   "cell_type": "code",
   "execution_count": 19,
   "id": "78e42b2b",
   "metadata": {},
   "outputs": [
    {
     "name": "stdout",
     "output_type": "stream",
     "text": [
      "                  TEAM  SEED  YEAR\n",
      "32          Kansas St.   9.0  2014\n",
      "33        Oklahoma St.   9.0  2014\n",
      "34          Pittsburgh   9.0  2014\n",
      "39              Dayton  11.0  2014\n",
      "40   George Washington  11.0  2014\n",
      "41                Iowa  11.0  2014\n",
      "42            Nebraska  11.0  2014\n",
      "43          Providence  11.0  2014\n",
      "44           Tennessee  11.0  2014\n",
      "125           Iowa St.   3.0  2016\n",
      "165           Miami FL   3.0  2016\n",
      "289          Texas A&M   3.0  2016\n",
      "318               Utah   3.0  2016\n",
      "336      West Virginia   3.0  2016\n",
      "39          California   4.0  2016\n",
      "72                Duke   4.0  2016\n",
      "136           Kentucky   4.0  2016\n"
     ]
    }
   ],
   "source": [
    "year_seed_count_dict = {'2013': {3:4, 4:4, 9:4, 11:5, 12: 4, 13: 5},\n",
    "                        '2014': {3:4, 4:4, 9:4, 11:5, 12: 5, 13: 4},\n",
    "                        '2015': {3:4, 4:4, 9:4, 11:6, 12: 4, 13: 4},\n",
    "                        '2016': {3:4, 4:4, 9:4, 11:6, 12: 4, 13: 4},\n",
    "                        '2017': {3:4, 4:4, 9:4, 11:6, 12: 4, 13: 4},\n",
    "                        '2018': {3:4, 4:4, 9:4, 11:6, 12: 4, 13: 4},\n",
    "                        '2019': {3:4, 4:4, 9:4, 11:6, 12: 4, 13: 4}}\n",
    "print(find_mislabeled_years(year_seed_count_dict,df_all).sort_values(by=['YEAR', 'SEED']))"
   ]
  },
  {
   "cell_type": "markdown",
   "id": "f244063b",
   "metadata": {},
   "source": [
    "##### Result of investigation\n",
    "\n",
    "The above finding helps us save significant time searching for the mislabeled teams. Indeed, we can quickly look online for tournament brackets from 2014 and 2016 to discover that:  \n",
    "In 2014, George Washington should be a 9 seed  \n",
    "In 2016, Iowa State should be a 4 seed  \n",
    "\n",
    "We will correct these when we clean the data in the next section."
   ]
  },
  {
   "cell_type": "code",
   "execution_count": 20,
   "id": "bf185aae",
   "metadata": {},
   "outputs": [
    {
     "name": "stdout",
     "output_type": "stream",
     "text": [
      "NULLS: 0\n",
      "VALS: 2455\n",
      "['A10', 'ACC', 'AE', 'ASun', 'Amer', 'B10', 'B12', 'BE', 'BSky', 'BSth', 'BW', 'CAA', 'CUSA', 'GWC', 'Horz', 'Ind', 'Ivy', 'MAAC', 'MAC', 'MEAC', 'MVC', 'MWC', 'NEC', 'OVC', 'P12', 'Pat', 'SB', 'SC', 'SEC', 'SWAC', 'Slnd', 'Sum', 'WAC', 'WCC', 'ind']\n"
     ]
    }
   ],
   "source": [
    "# Conference characteristics\n",
    "\n",
    "cf = df_all['CONF']\n",
    "print('NULLS:', cf.isna().sum())\n",
    "print('VALS:', len(cf)-cf.isna().sum())\n",
    "\n",
    "print(sorted(cf.unique()))"
   ]
  },
  {
   "cell_type": "markdown",
   "id": "fd9c25b8",
   "metadata": {},
   "source": [
    "#### Possible errors in data\n",
    "All teams have an assigned conferences, which is good. However, there are similar labels 'Ind' and 'ind'. Let's look into it"
   ]
  },
  {
   "cell_type": "code",
   "execution_count": null,
   "id": "3ba116c9",
   "metadata": {},
   "outputs": [],
   "source": []
  },
  {
   "cell_type": "code",
   "execution_count": null,
   "id": "6d2e4484",
   "metadata": {},
   "outputs": [],
   "source": []
  },
  {
   "cell_type": "code",
   "execution_count": null,
   "id": "6f469a3e",
   "metadata": {},
   "outputs": [],
   "source": []
  },
  {
   "cell_type": "code",
   "execution_count": null,
   "id": "f3e9f9aa",
   "metadata": {},
   "outputs": [],
   "source": []
  }
 ],
 "metadata": {
  "kernelspec": {
   "display_name": "Python 3",
   "language": "python",
   "name": "python3"
  },
  "language_info": {
   "codemirror_mode": {
    "name": "ipython",
    "version": 3
   },
   "file_extension": ".py",
   "mimetype": "text/x-python",
   "name": "python",
   "nbconvert_exporter": "python",
   "pygments_lexer": "ipython3",
   "version": "3.7.9"
  }
 },
 "nbformat": 4,
 "nbformat_minor": 5
}
