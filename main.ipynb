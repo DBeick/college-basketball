{
 "cells": [
  {
   "cell_type": "code",
   "execution_count": 20,
   "id": "d70224e2",
   "metadata": {},
   "outputs": [],
   "source": [
    "import pandas as pd\n",
    "import numpy as np\n",
    "\n",
    "df = pd.read_csv('datasets/cbbAll.csv')"
   ]
  },
  {
   "cell_type": "markdown",
   "id": "8b91d5e3",
   "metadata": {},
   "source": [
    "## Question 1\n",
    "\n",
    "### Which conferences produce the best offenses and the best defenses each year?\n",
    " 1. Which were the top five offensive and defensive conferences, year by year?\n",
    " 2. Which were the top ten offensive and defensive conferences, out of all year by year results?\n",
    " 3. Which were the top five offensive and defensive conferences cumulatively?"
   ]
  },
  {
   "cell_type": "markdown",
   "id": "9b57e844",
   "metadata": {},
   "source": [
    "#### 1. Year by year performance"
   ]
  },
  {
   "cell_type": "code",
   "execution_count": 130,
   "id": "1a8cfc5e",
   "metadata": {},
   "outputs": [],
   "source": [
    "years = df['YEAR'].unique()\n",
    "df_yby = df.groupby(['YEAR', 'CONF']).mean()"
   ]
  },
  {
   "cell_type": "code",
   "execution_count": 131,
   "id": "7cc91059",
   "metadata": {},
   "outputs": [],
   "source": [
    "top_os = []\n",
    "top_ds = []\n",
    "a = [1,2,3,4]\n",
    "\n",
    "for year in years:\n",
    "    top_os.append(df_yby[df_yby.index.get_level_values('YEAR') == year]['ADJOE'].nlargest(5))\n",
    "    top_ds.append(df_yby[df_yby.index.get_level_values('YEAR') == year]['ADJDE'].nsmallest(5))"
   ]
  },
  {
   "cell_type": "code",
   "execution_count": 132,
   "id": "9ff1e403",
   "metadata": {},
   "outputs": [
    {
     "data": {
      "text/plain": [
       "[(YEAR  CONF\n",
       "  2013  B10     109.891667\n",
       "        BE      107.740000\n",
       "        ACC     107.466667\n",
       "        P12     106.958333\n",
       "        B12     106.880000\n",
       "  Name: ADJOE, dtype: float64,\n",
       "  YEAR  CONF\n",
       "  2013  B10     92.250000\n",
       "        BE      92.686667\n",
       "        P12     94.550000\n",
       "        ACC     95.383333\n",
       "        SEC     95.564286\n",
       "  Name: ADJDE, dtype: float64),\n",
       " (YEAR  CONF\n",
       "  2014  B12     113.580000\n",
       "        B10     112.575000\n",
       "        BE      111.910000\n",
       "        ACC     111.800000\n",
       "        P12     110.983333\n",
       "  Name: ADJOE, dtype: float64,\n",
       "  YEAR  CONF\n",
       "  2014  B10     96.275000\n",
       "        ACC     97.886667\n",
       "        SEC     98.207143\n",
       "        B12     98.380000\n",
       "        P12     98.533333\n",
       "  Name: ADJDE, dtype: float64),\n",
       " (YEAR  CONF\n",
       "  2015  ACC     111.033333\n",
       "        BE      110.970000\n",
       "        B10     110.514286\n",
       "        B12     110.330000\n",
       "        P12     108.233333\n",
       "  Name: ADJOE, dtype: float64,\n",
       "  YEAR  CONF\n",
       "  2015  B12     93.560000\n",
       "        ACC     94.826667\n",
       "        BE      95.450000\n",
       "        B10     95.514286\n",
       "        SEC     95.714286\n",
       "  Name: ADJDE, dtype: float64),\n",
       " (YEAR  CONF\n",
       "  2016  ACC     113.506667\n",
       "        B12     113.420000\n",
       "        BE      111.100000\n",
       "        P12     110.991667\n",
       "        B10     110.057143\n",
       "  Name: ADJOE, dtype: float64,\n",
       "  YEAR  CONF\n",
       "  2016  B12     95.500000\n",
       "        BE      96.810000\n",
       "        ACC     97.280000\n",
       "        SEC     97.707143\n",
       "        P12     97.975000\n",
       "  Name: ADJDE, dtype: float64),\n",
       " (YEAR  CONF\n",
       "  2017  B12     114.810000\n",
       "        ACC     114.560000\n",
       "        BE      112.790000\n",
       "        B10     110.928571\n",
       "        P12     109.966667\n",
       "  Name: ADJOE, dtype: float64,\n",
       "  YEAR  CONF\n",
       "  2017  B12     95.230000\n",
       "        B10     96.614286\n",
       "        SEC     96.635714\n",
       "        ACC     96.913333\n",
       "        BE      97.610000\n",
       "  Name: ADJDE, dtype: float64),\n",
       " (YEAR  CONF\n",
       "  2018  BE      114.920000\n",
       "        B12     114.210000\n",
       "        ACC     112.273333\n",
       "        B10     112.250000\n",
       "        SEC     112.050000\n",
       "  Name: ADJOE, dtype: float64,\n",
       "  YEAR  CONF\n",
       "  2018  B12     96.470000\n",
       "        ACC     97.120000\n",
       "        B10     97.350000\n",
       "        BE      97.390000\n",
       "        SEC     97.428571\n",
       "  Name: ADJDE, dtype: float64),\n",
       " (YEAR  CONF\n",
       "  2019  B12     112.060000\n",
       "        SEC     111.678571\n",
       "        B10     111.221429\n",
       "        ACC     110.933333\n",
       "        BE      109.710000\n",
       "  Name: ADJOE, dtype: float64,\n",
       "  YEAR  CONF\n",
       "  2019  B10     94.114286\n",
       "        B12     94.380000\n",
       "        ACC     95.140000\n",
       "        SEC     96.078571\n",
       "        Amer    97.991667\n",
       "  Name: ADJDE, dtype: float64)]"
      ]
     },
     "execution_count": 132,
     "metadata": {},
     "output_type": "execute_result"
    }
   ],
   "source": [
    "[res for res in zip(top_os, top_ds)]"
   ]
  },
  {
   "cell_type": "markdown",
   "id": "0b884ab9",
   "metadata": {},
   "source": [
    "#### 2. Top single season performances"
   ]
  },
  {
   "cell_type": "code",
   "execution_count": 133,
   "id": "7df466ec",
   "metadata": {},
   "outputs": [
    {
     "data": {
      "text/plain": [
       "YEAR  CONF\n",
       "2018  BE      114.920000\n",
       "2017  B12     114.810000\n",
       "      ACC     114.560000\n",
       "2018  B12     114.210000\n",
       "2014  B12     113.580000\n",
       "2016  ACC     113.506667\n",
       "      B12     113.420000\n",
       "2017  BE      112.790000\n",
       "2014  B10     112.575000\n",
       "2018  ACC     112.273333\n",
       "Name: ADJOE, dtype: float64"
      ]
     },
     "execution_count": 133,
     "metadata": {},
     "output_type": "execute_result"
    }
   ],
   "source": [
    "df_yby['ADJOE'].nlargest(10)"
   ]
  },
  {
   "cell_type": "code",
   "execution_count": 134,
   "id": "6062b769",
   "metadata": {},
   "outputs": [
    {
     "data": {
      "text/plain": [
       "YEAR  CONF\n",
       "2013  B10     92.250000\n",
       "      BE      92.686667\n",
       "2015  B12     93.560000\n",
       "2019  B10     94.114286\n",
       "      B12     94.380000\n",
       "2013  P12     94.550000\n",
       "2015  ACC     94.826667\n",
       "2019  ACC     95.140000\n",
       "2017  B12     95.230000\n",
       "2013  ACC     95.383333\n",
       "Name: ADJDE, dtype: float64"
      ]
     },
     "execution_count": 134,
     "metadata": {},
     "output_type": "execute_result"
    }
   ],
   "source": [
    "df_yby['ADJDE'].nsmallest(10)"
   ]
  },
  {
   "cell_type": "markdown",
   "id": "89c0e7e4",
   "metadata": {},
   "source": [
    "#### 3. Top cumulative performances"
   ]
  },
  {
   "cell_type": "code",
   "execution_count": 135,
   "id": "031ea214",
   "metadata": {},
   "outputs": [],
   "source": [
    "df_cum = df.groupby('CONF').mean()"
   ]
  },
  {
   "cell_type": "code",
   "execution_count": 136,
   "id": "7a25b09a",
   "metadata": {},
   "outputs": [
    {
     "name": "stdout",
     "output_type": "stream",
     "text": [
      "Top Offenses:\n",
      "CONF\n",
      "B12    112.184286\n",
      "ACC    111.776471\n",
      "BE     111.068000\n",
      "B10    111.055319\n",
      "SEC    109.404082\n",
      "Name: ADJOE, dtype: float64\n",
      "\n",
      "\n",
      "Top Defenses:\n",
      "CONF\n",
      "B12    95.584286\n",
      "B10    95.886170\n",
      "ACC    96.393137\n",
      "BE     96.610667\n",
      "SEC    96.762245\n",
      "Name: ADJDE, dtype: float64\n"
     ]
    }
   ],
   "source": [
    "print(\"Top Offenses:\")\n",
    "print(df_cum['ADJOE'].nlargest(5))\n",
    "print(\"\\n\\nTop Defenses:\")\n",
    "print(df_cum['ADJDE'].nsmallest(5))"
   ]
  },
  {
   "cell_type": "markdown",
   "id": "dd3352c3",
   "metadata": {},
   "source": [
    "## Question 2\n",
    "\n",
    "### Is a team with a better offense or a better defense more likely to have the most wins?\n",
    " 1. What is the correlation between offensive and defensive efficiency and in-season win percentage (`PRE_PC`)?\n",
    " 2. What is the correlation between offensive and defensive efficiency and tournament performance (`PFPC`)?"
   ]
  },
  {
   "cell_type": "markdown",
   "id": "b150faf4",
   "metadata": {},
   "source": [
    "#### 1. Team efficiency vs win percentage"
   ]
  },
  {
   "cell_type": "code",
   "execution_count": null,
   "id": "9010cb18",
   "metadata": {},
   "outputs": [],
   "source": []
  },
  {
   "cell_type": "markdown",
   "id": "14f0facf",
   "metadata": {},
   "source": [
    "#### 2. Team efficiency vs postseason performance"
   ]
  },
  {
   "cell_type": "code",
   "execution_count": null,
   "id": "5675af8a",
   "metadata": {},
   "outputs": [],
   "source": []
  },
  {
   "cell_type": "markdown",
   "id": "13cca3fb",
   "metadata": {},
   "source": [
    "## Question 3\n",
    "\n",
    "### Is there a bias toward the \"Major\" conferences (ACC, Big East, Big Ten, Big 12, Pac-12, SEC) in how the postseason tournament is seeded?\n",
    " 1. Do non-major teams on average need to have a higher power ranking than major teams in order to earn a top-4 seed?\n",
    " 2. Do non-major teams of comparable power ranking to major teams achieve comparable postseason success?  \n",
    "\n",
    "If the answer is Yes to both questions, it would indicate a bias in favor of the major teams, since they earn better seeds despite equal performance\n",
    "\n"
   ]
  },
  {
   "cell_type": "code",
   "execution_count": 137,
   "id": "5824b767",
   "metadata": {},
   "outputs": [],
   "source": [
    "majors = ['ACC', 'BE', 'B10', 'B12', 'P12', 'SEC']"
   ]
  },
  {
   "cell_type": "markdown",
   "id": "e5561acc",
   "metadata": {},
   "source": [
    "#### 1. Average power rankings of top-4 seeds"
   ]
  },
  {
   "cell_type": "code",
   "execution_count": 139,
   "id": "0c540964",
   "metadata": {},
   "outputs": [],
   "source": [
    "df_maj_t4 = df[(df['CONF'].isin(majors)) & (df['SEED'].isin([1,2,3,4]))]\n",
    "df_nmj_t4 = df[~(df['CONF'].isin(majors)) & (df['SEED'].isin([1,2,3,4]))]"
   ]
  },
  {
   "cell_type": "code",
   "execution_count": 142,
   "id": "d4a51d9d",
   "metadata": {},
   "outputs": [
    {
     "data": {
      "text/plain": [
       "0.9364464646464645"
      ]
     },
     "execution_count": 142,
     "metadata": {},
     "output_type": "execute_result"
    }
   ],
   "source": [
    "df_maj_t4['BARTHAG'].mean()"
   ]
  },
  {
   "cell_type": "code",
   "execution_count": 141,
   "id": "0a1538d7",
   "metadata": {},
   "outputs": [
    {
     "data": {
      "text/plain": [
       "0.9313461538461537"
      ]
     },
     "execution_count": 141,
     "metadata": {},
     "output_type": "execute_result"
    }
   ],
   "source": [
    "df_nmj_t4['BARTHAG'].mean()"
   ]
  },
  {
   "cell_type": "code",
   "execution_count": 143,
   "id": "c8d470eb",
   "metadata": {},
   "outputs": [
    {
     "data": {
      "text/plain": [
       "2.1006216006215936"
      ]
     },
     "execution_count": 143,
     "metadata": {},
     "output_type": "execute_result"
    }
   ],
   "source": [
    "df_maj_t4['ADJOE'].mean() - df_nmj_t4['ADJOE'].mean()"
   ]
  },
  {
   "cell_type": "code",
   "execution_count": 148,
   "id": "28f55bb1",
   "metadata": {},
   "outputs": [
    {
     "data": {
      "text/plain": [
       "1.4317793317793104"
      ]
     },
     "execution_count": 148,
     "metadata": {},
     "output_type": "execute_result"
    }
   ],
   "source": [
    "df_maj_t4['ADJDE'].mean() - df_nmj_t4['ADJDE'].mean()"
   ]
  },
  {
   "cell_type": "markdown",
   "id": "f1201dc9",
   "metadata": {},
   "source": [
    "#### 2. Average postseason result of top-4 seeds"
   ]
  },
  {
   "cell_type": "code",
   "execution_count": 146,
   "id": "61f1c2d8",
   "metadata": {},
   "outputs": [
    {
     "data": {
      "text/plain": [
       "0.9285076923076923"
      ]
     },
     "execution_count": 146,
     "metadata": {},
     "output_type": "execute_result"
    }
   ],
   "source": [
    "df_nmj_t4['PFPC'].mean()"
   ]
  },
  {
   "cell_type": "code",
   "execution_count": 147,
   "id": "31b7770b",
   "metadata": {},
   "outputs": [
    {
     "data": {
      "text/plain": [
       "0.9441232323232321"
      ]
     },
     "execution_count": 147,
     "metadata": {},
     "output_type": "execute_result"
    }
   ],
   "source": [
    "df_maj_t4['PFPC'].mean()"
   ]
  },
  {
   "cell_type": "code",
   "execution_count": null,
   "id": "24dc9c98",
   "metadata": {},
   "outputs": [],
   "source": []
  }
 ],
 "metadata": {
  "kernelspec": {
   "display_name": "Python 3",
   "language": "python",
   "name": "python3"
  },
  "language_info": {
   "codemirror_mode": {
    "name": "ipython",
    "version": 3
   },
   "file_extension": ".py",
   "mimetype": "text/x-python",
   "name": "python",
   "nbconvert_exporter": "python",
   "pygments_lexer": "ipython3",
   "version": "3.7.9"
  }
 },
 "nbformat": 4,
 "nbformat_minor": 5
}
