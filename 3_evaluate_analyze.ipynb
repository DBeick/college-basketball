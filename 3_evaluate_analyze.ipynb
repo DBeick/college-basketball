{
 "cells": [
  {
   "cell_type": "markdown",
   "id": "7f8c48a6",
   "metadata": {},
   "source": [
    "# College Basketball Data Analysis\n",
    "\n",
    "Doug Beick | Udacity Data Scientist Nanodegree\\\n",
    "April, 2021\n",
    "\n",
    "The goal in this project is to take data from multiple seasons of college basketball to assess team and conference performance, both in season and postseason.\n",
    "\n",
    "---\n",
    "## 3_evaluate_analyze\n",
    "\n",
    "Using data we cleaned and prepared, I seek to address the questions from the earlier Business Understanding section."
   ]
  },
  {
   "cell_type": "markdown",
   "id": "3c1af1ce",
   "metadata": {},
   "source": [
    "### Import packages and read in data"
   ]
  },
  {
   "cell_type": "code",
   "execution_count": 1,
   "id": "d70224e2",
   "metadata": {},
   "outputs": [],
   "source": [
    "import pandas as pd\n",
    "import numpy as np\n",
    "import matplotlib.pyplot as plt"
   ]
  },
  {
   "cell_type": "code",
   "execution_count": 2,
   "id": "f86c7e4e",
   "metadata": {},
   "outputs": [],
   "source": [
    "# Read in our final, clean data set\n",
    "\n",
    "df = pd.read_csv('datasets/cbbAll.csv')"
   ]
  },
  {
   "cell_type": "markdown",
   "id": "8e83dda2",
   "metadata": {},
   "source": [
    "## Analyze and Visualize data"
   ]
  },
  {
   "cell_type": "markdown",
   "id": "8b91d5e3",
   "metadata": {},
   "source": [
    "### Question 1\n",
    "\n",
    "#### Which conferences produce the best offenses and the best defenses?\n",
    "We can explore performance by conferences in three different ways:\n",
    " 1. Which were the top five offensive and defensive conferences, year by year?\n",
    " 2. Which were the top ten offensive and defensive conferences, out of all year by year results?\n",
    " 3. Which were the top ten offensive and defensive conferences cumulatively?"
   ]
  },
  {
   "cell_type": "markdown",
   "id": "9b57e844",
   "metadata": {},
   "source": [
    "#### 1. Year by year performance"
   ]
  },
  {
   "cell_type": "code",
   "execution_count": 9,
   "id": "1a8cfc5e",
   "metadata": {},
   "outputs": [],
   "source": [
    "# Group data based on season and conference affiliation\n",
    "years = df['YEAR'].unique()\n",
    "df_yby = df.groupby(['YEAR', 'CONF']).mean()"
   ]
  },
  {
   "cell_type": "code",
   "execution_count": 13,
   "id": "4c01cea1",
   "metadata": {},
   "outputs": [],
   "source": [
    "# TRANSFORM DATA TO BE EASY TO READ AND TO PLOT\n",
    "#\n",
    "# Using grouped data, take the five highest rated conferences in ADJOE (offensive rating) and \n",
    "# five lowest rated conferences in ADJDE (defensive rating) in each year. Concatenate each such\n",
    "# group of five into a single dataframe, one for ADJOE and one for ADJDE. The resultant dataframes\n",
    "# have each row as a year and each column is a conference, with the cell data representing that\n",
    "# conference's rating in that year. A cell will be NaN if that conference was not top five in that year.\n",
    "# Note: Since the data was grouped on two columns, we must unstack the df by one level.\n",
    "\n",
    "df_off = pd.concat([df_yby[df_yby.index.get_level_values('YEAR') == year]['ADJOE'].nlargest(5).unstack(level=1) for year in years], axis=0)\n",
    "df_def = pd.concat([df_yby[df_yby.index.get_level_values('YEAR') == year]['ADJDE'].nsmallest(5).unstack(level=1) for year in years], axis=0)"
   ]
  },
  {
   "cell_type": "code",
   "execution_count": 12,
   "id": "21c65447",
   "metadata": {},
   "outputs": [
    {
     "data": {
      "text/html": [
       "<div>\n",
       "<style scoped>\n",
       "    .dataframe tbody tr th:only-of-type {\n",
       "        vertical-align: middle;\n",
       "    }\n",
       "\n",
       "    .dataframe tbody tr th {\n",
       "        vertical-align: top;\n",
       "    }\n",
       "\n",
       "    .dataframe thead th {\n",
       "        text-align: right;\n",
       "    }\n",
       "</style>\n",
       "<table border=\"1\" class=\"dataframe\">\n",
       "  <thead>\n",
       "    <tr style=\"text-align: right;\">\n",
       "      <th>CONF</th>\n",
       "      <th>B10</th>\n",
       "      <th>BE</th>\n",
       "      <th>ACC</th>\n",
       "      <th>P12</th>\n",
       "      <th>B12</th>\n",
       "      <th>SEC</th>\n",
       "    </tr>\n",
       "    <tr>\n",
       "      <th>YEAR</th>\n",
       "      <th></th>\n",
       "      <th></th>\n",
       "      <th></th>\n",
       "      <th></th>\n",
       "      <th></th>\n",
       "      <th></th>\n",
       "    </tr>\n",
       "  </thead>\n",
       "  <tbody>\n",
       "    <tr>\n",
       "      <th>2013</th>\n",
       "      <td>109.891667</td>\n",
       "      <td>107.74</td>\n",
       "      <td>107.466667</td>\n",
       "      <td>106.958333</td>\n",
       "      <td>106.88</td>\n",
       "      <td>NaN</td>\n",
       "    </tr>\n",
       "    <tr>\n",
       "      <th>2014</th>\n",
       "      <td>112.575000</td>\n",
       "      <td>111.91</td>\n",
       "      <td>111.800000</td>\n",
       "      <td>110.983333</td>\n",
       "      <td>113.58</td>\n",
       "      <td>NaN</td>\n",
       "    </tr>\n",
       "    <tr>\n",
       "      <th>2015</th>\n",
       "      <td>110.514286</td>\n",
       "      <td>110.97</td>\n",
       "      <td>111.033333</td>\n",
       "      <td>108.233333</td>\n",
       "      <td>110.33</td>\n",
       "      <td>NaN</td>\n",
       "    </tr>\n",
       "    <tr>\n",
       "      <th>2016</th>\n",
       "      <td>110.057143</td>\n",
       "      <td>111.10</td>\n",
       "      <td>113.506667</td>\n",
       "      <td>110.991667</td>\n",
       "      <td>113.42</td>\n",
       "      <td>NaN</td>\n",
       "    </tr>\n",
       "    <tr>\n",
       "      <th>2017</th>\n",
       "      <td>110.928571</td>\n",
       "      <td>112.79</td>\n",
       "      <td>114.560000</td>\n",
       "      <td>109.966667</td>\n",
       "      <td>114.81</td>\n",
       "      <td>NaN</td>\n",
       "    </tr>\n",
       "  </tbody>\n",
       "</table>\n",
       "</div>"
      ],
      "text/plain": [
       "CONF         B10      BE         ACC         P12     B12  SEC\n",
       "YEAR                                                         \n",
       "2013  109.891667  107.74  107.466667  106.958333  106.88  NaN\n",
       "2014  112.575000  111.91  111.800000  110.983333  113.58  NaN\n",
       "2015  110.514286  110.97  111.033333  108.233333  110.33  NaN\n",
       "2016  110.057143  111.10  113.506667  110.991667  113.42  NaN\n",
       "2017  110.928571  112.79  114.560000  109.966667  114.81  NaN"
      ]
     },
     "execution_count": 12,
     "metadata": {},
     "output_type": "execute_result"
    }
   ],
   "source": [
    "df_off.head()"
   ]
  },
  {
   "cell_type": "markdown",
   "id": "0c9113e5",
   "metadata": {},
   "source": [
    "##### Plot top offensive conferences"
   ]
  },
  {
   "cell_type": "code",
   "execution_count": 11,
   "id": "fc96f8ae",
   "metadata": {},
   "outputs": [
    {
     "data": {
      "image/png": "[encoded data removed]",
      "text/plain": [
       "<Figure size 1080x288 with 1 Axes>"
      ]
     },
     "metadata": {
      "needs_background": "light"
     },
     "output_type": "display_data"
    }
   ],
   "source": [
    "df_off.plot(y=[col for col in df_off.columns], kind='bar', figsize=(15,4), ylim=(100,120))\n",
    "plt.show()"
   ]
  },
  {
   "cell_type": "markdown",
   "id": "ede3eb86",
   "metadata": {},
   "source": [
    "For our top offenses, we look for the conferences with the highest values. We can see B10, BE, ACC, and B12 represented in every year, while P12 and SEC take turns. In some years, like 2013, one conference is clearly superior, while in others, like 2015 or 2016, there are multiple conferences near the top."
   ]
  },
  {
   "cell_type": "markdown",
   "id": "521ae048",
   "metadata": {},
   "source": [
    "##### Plot top defensive conferences"
   ]
  },
  {
   "cell_type": "code",
   "execution_count": 86,
   "id": "844c554f",
   "metadata": {
    "scrolled": true
   },
   "outputs": [
    {
     "data": {
      "image/png": "[encoded data removed]",
      "text/plain": [
       "<Figure size 1080x288 with 1 Axes>"
      ]
     },
     "metadata": {
      "needs_background": "light"
     },
     "output_type": "display_data"
    }
   ],
   "source": [
    "df_def.plot(y=[col for col in df_def.columns], kind='bar', figsize=(15,4), ylim=(80,100))\n",
    "plt.show()"
   ]
  },
  {
   "cell_type": "markdown",
   "id": "454cf4a5",
   "metadata": {},
   "source": [
    "For our top defenses, we look for the conferences with the lowest values. Here, only ACC and SEC appear every year, while five other conferences sharing the remaining spots. Interesting to note that while they do appear every year, neither ACC nor SEC ever have the lowest/best value. On the other hand, B12, which failed to make the cut in 2013, is the best conferences in four of the years, perhaps five (2019 is close)."
   ]
  },
  {
   "cell_type": "markdown",
   "id": "0b884ab9",
   "metadata": {},
   "source": [
    "#### 2. Top single season performances"
   ]
  },
  {
   "cell_type": "markdown",
   "id": "6d07d732",
   "metadata": {},
   "source": [
    "##### Offense"
   ]
  },
  {
   "cell_type": "code",
   "execution_count": 14,
   "id": "7df466ec",
   "metadata": {},
   "outputs": [
    {
     "data": {
      "text/plain": [
       "YEAR  CONF\n",
       "2018  BE      114.920000\n",
       "2017  B12     114.810000\n",
       "      ACC     114.560000\n",
       "2018  B12     114.210000\n",
       "2014  B12     113.580000\n",
       "2016  ACC     113.506667\n",
       "      B12     113.420000\n",
       "2017  BE      112.790000\n",
       "2014  B10     112.575000\n",
       "2018  ACC     112.273333\n",
       "Name: ADJOE, dtype: float64"
      ]
     },
     "execution_count": 14,
     "metadata": {},
     "output_type": "execute_result"
    }
   ],
   "source": [
    "# Use grouped data from earlier and pull ten best offenses. Since it is grouped by\n",
    "# year and conference already, we easily see which performances were best.\n",
    "\n",
    "top_off_single = df_yby['ADJOE'].nlargest(10)\n",
    "top_off_single"
   ]
  },
  {
   "cell_type": "code",
   "execution_count": 107,
   "id": "b1dec34e",
   "metadata": {},
   "outputs": [
    {
     "data": {
      "image/png": "[encoded data removed]",
      "text/plain": [
       "<Figure size 432x288 with 1 Axes>"
      ]
     },
     "metadata": {
      "needs_background": "light"
     },
     "output_type": "display_data"
    }
   ],
   "source": [
    "top_off_single.plot.bar(ylim=(100,120))\n",
    "plt.show()"
   ]
  },
  {
   "cell_type": "markdown",
   "id": "524fcbf7",
   "metadata": {},
   "source": [
    "We can see B12 and ACC each appear three or more times. There also does not appear to be significant stratification among the results, indicating no anomalies or outliers."
   ]
  },
  {
   "cell_type": "markdown",
   "id": "957e948d",
   "metadata": {},
   "source": [
    "##### Defense"
   ]
  },
  {
   "cell_type": "code",
   "execution_count": 15,
   "id": "6062b769",
   "metadata": {},
   "outputs": [
    {
     "data": {
      "text/plain": [
       "YEAR  CONF\n",
       "2013  B10     92.250000\n",
       "      BE      92.686667\n",
       "2015  B12     93.560000\n",
       "2019  B10     94.114286\n",
       "      B12     94.380000\n",
       "2013  P12     94.550000\n",
       "2015  ACC     94.826667\n",
       "2019  ACC     95.140000\n",
       "2017  B12     95.230000\n",
       "2013  ACC     95.383333\n",
       "Name: ADJDE, dtype: float64"
      ]
     },
     "execution_count": 15,
     "metadata": {},
     "output_type": "execute_result"
    }
   ],
   "source": [
    "# Use grouped data from earlier and pull ten best defenses. Since it is grouped by\n",
    "# year and conference already, we easily see which performances were best.\n",
    "\n",
    "top_def_single = df_yby['ADJDE'].nsmallest(10)\n",
    "top_def_single"
   ]
  },
  {
   "cell_type": "code",
   "execution_count": 108,
   "id": "388e11d1",
   "metadata": {},
   "outputs": [
    {
     "data": {
      "image/png": "[encoded data removed]",
      "text/plain": [
       "<Figure size 432x288 with 1 Axes>"
      ]
     },
     "metadata": {
      "needs_background": "light"
     },
     "output_type": "display_data"
    }
   ],
   "source": [
    "top_def_single.plot.bar(ylim=(80,100))\n",
    "plt.show()"
   ]
  },
  {
   "cell_type": "markdown",
   "id": "83f6cac7",
   "metadata": {},
   "source": [
    "We can see B12 and ACC again appear the most, three times each. There also does not appear to be significant stratification among the results, indicating no anomalies or outliers."
   ]
  },
  {
   "cell_type": "markdown",
   "id": "89c0e7e4",
   "metadata": {},
   "source": [
    "#### 3. Top cumulative performances"
   ]
  },
  {
   "cell_type": "code",
   "execution_count": 5,
   "id": "031ea214",
   "metadata": {},
   "outputs": [],
   "source": [
    "# Group all data by conference affiliation, average each column\n",
    "df_cum = df.groupby('CONF').mean()\n",
    "\n",
    "# Pull aside the best offenses and defenses\n",
    "top_off_cum = df_cum['ADJOE'].nlargest(10)\n",
    "top_def_cum = df_cum['ADJDE'].nsmallest(10)"
   ]
  },
  {
   "cell_type": "markdown",
   "id": "1fdf6be4",
   "metadata": {},
   "source": [
    "##### Offense"
   ]
  },
  {
   "cell_type": "code",
   "execution_count": 110,
   "id": "7a25b09a",
   "metadata": {},
   "outputs": [
    {
     "name": "stdout",
     "output_type": "stream",
     "text": [
      "Top Offenses:\n",
      " CONF\n",
      "B12     112.184286\n",
      "ACC     111.776471\n",
      "BE      111.068000\n",
      "B10     111.055319\n",
      "SEC     109.404082\n",
      "P12     109.057143\n",
      "Amer    106.541791\n",
      "WCC     106.437681\n",
      "A10     105.659596\n",
      "MWC     105.153333\n",
      "Name: ADJOE, dtype: float64\n"
     ]
    },
    {
     "data": {
      "image/png": "[encoded data removed]",
      "text/plain": [
       "<Figure size 432x288 with 1 Axes>"
      ]
     },
     "metadata": {
      "needs_background": "light"
     },
     "output_type": "display_data"
    }
   ],
   "source": [
    "print(\"Top Offenses:\\n\", top_off_cum)\n",
    "top_off_cum.plot.bar(ylim=(100,120))\n",
    "plt.show()"
   ]
  },
  {
   "cell_type": "markdown",
   "id": "971c221f",
   "metadata": {},
   "source": [
    "For the first time in our plots, we can see notable stratifying. The bottom four of the ten are visibly lower in rating. The middle two appear to be in their own tier as well."
   ]
  },
  {
   "cell_type": "markdown",
   "id": "f2a97c31",
   "metadata": {},
   "source": [
    "##### Defense"
   ]
  },
  {
   "cell_type": "code",
   "execution_count": 112,
   "id": "121629a6",
   "metadata": {},
   "outputs": [
    {
     "name": "stdout",
     "output_type": "stream",
     "text": [
      "Top Defenses:\n",
      " CONF\n",
      "B12      95.584286\n",
      "B10      95.886170\n",
      "ACC      96.393137\n",
      "BE       96.610667\n",
      "SEC      96.762245\n",
      "P12      98.389286\n",
      "Amer     99.308955\n",
      "A10     100.141414\n",
      "MVC     100.370000\n",
      "MWC     101.026667\n",
      "Name: ADJDE, dtype: float64\n"
     ]
    },
    {
     "data": {
      "image/png": "[encoded data removed]",
      "text/plain": [
       "<Figure size 432x288 with 1 Axes>"
      ]
     },
     "metadata": {
      "needs_background": "light"
     },
     "output_type": "display_data"
    }
   ],
   "source": [
    "print(\"Top Defenses:\\n\", top_def_cum)\n",
    "top_def_cum.plot.bar(ylim=(80,102))\n",
    "plt.show()"
   ]
  },
  {
   "cell_type": "markdown",
   "id": "536118ed",
   "metadata": {},
   "source": [
    "Unlike the multiple tiers on offense, we see two groupings here. The first are the top five, who are closely rated and have only a slight difference between them. Then there are the next five, who have a steeper drop off at each point. So, we have a clear top tier and consistent drop off thereafter.\n",
    "\n",
    "### Conclusions\n",
    "\n",
    "We can see in all cases that certain conferences arise toward the top. On offense, there tended to be more stratification, with B12 and ACC being the preeminent entries, while on defense, those two conferences' advantage melted away a little and we were left with a group of four or five conferences.\n",
    "\n",
    "In both offense and defense, in all three parts, we saw the so-called Major conferences (ACC, BE, B10, B12, P12, SEC) consistently have the best results. We will explore more around these Major conferences in Question 3.\n",
    "\n",
    "_Answers_: The Big 12 and the ACC clearly produce the best offenses. On defense, those two conferences remain among the top, though in a larger group of contenders."
   ]
  },
  {
   "cell_type": "markdown",
   "id": "dd3352c3",
   "metadata": {},
   "source": [
    "## Question 2\n",
    "\n",
    "### Is a team with a better offense or a better defense more likely to have the most wins?\n",
    " 1. What is the correlation between offensive and defensive efficiency and in-season win percentage (`PRE_PC`)?\n",
    " 2. What is the correlation between offensive and defensive efficiency and tournament performance (`PFPC`)?\n",
    " \n",
    "*Note*  \n",
    "In this section, we make use of correlation coefficients and scatter plots. Both tools are useful for seeing the strength of a relationship."
   ]
  },
  {
   "cell_type": "markdown",
   "id": "b150faf4",
   "metadata": {},
   "source": [
    "#### 1. Team efficiency vs win percentage"
   ]
  },
  {
   "cell_type": "markdown",
   "id": "31970317",
   "metadata": {},
   "source": [
    "##### Offense"
   ]
  },
  {
   "cell_type": "code",
   "execution_count": 2,
   "id": "9010cb18",
   "metadata": {},
   "outputs": [
    {
     "data": {
      "text/plain": [
       "array([[1.        , 0.71935103],\n",
       "       [0.71935103, 1.        ]])"
      ]
     },
     "execution_count": 2,
     "metadata": {},
     "output_type": "execute_result"
    }
   ],
   "source": [
    "season_off = np.corrcoef(df['ADJOE'], df['PRE_PC'])\n",
    "season_off"
   ]
  },
  {
   "cell_type": "code",
   "execution_count": 3,
   "id": "078161ea",
   "metadata": {},
   "outputs": [
    {
     "data": {
      "image/png": "[encoded data removed]",
      "text/plain": [
       "<Figure size 432x288 with 1 Axes>"
      ]
     },
     "metadata": {
      "needs_background": "light"
     },
     "output_type": "display_data"
    }
   ],
   "source": [
    "plt.scatter(df['ADJOE'], df['PRE_PC'])\n",
    "plt.xlabel(\"Offensive Efficiency\")\n",
    "plt.ylabel(\"Win Rate before Tournament\")\n",
    "plt.show()"
   ]
  },
  {
   "cell_type": "markdown",
   "id": "e947e06a",
   "metadata": {},
   "source": [
    "##### Defense"
   ]
  },
  {
   "cell_type": "code",
   "execution_count": 4,
   "id": "780754f1",
   "metadata": {},
   "outputs": [
    {
     "data": {
      "text/plain": [
       "array([[ 1.        , -0.65386466],\n",
       "       [-0.65386466,  1.        ]])"
      ]
     },
     "execution_count": 4,
     "metadata": {},
     "output_type": "execute_result"
    }
   ],
   "source": [
    "season_def = np.corrcoef(df['ADJDE'], df['PRE_PC'])\n",
    "season_def"
   ]
  },
  {
   "cell_type": "code",
   "execution_count": 5,
   "id": "c4e10624",
   "metadata": {},
   "outputs": [
    {
     "data": {
      "image/png": "[encoded data removed]",
      "text/plain": [
       "<Figure size 432x288 with 1 Axes>"
      ]
     },
     "metadata": {
      "needs_background": "light"
     },
     "output_type": "display_data"
    }
   ],
   "source": [
    "plt.scatter(df['ADJDE'], df['PRE_PC'])\n",
    "plt.xlabel(\"Defensive Efficiency\")\n",
    "plt.ylabel(\"Win Rate before Tournament\")\n",
    "plt.show()"
   ]
  },
  {
   "cell_type": "markdown",
   "id": "b9653a5a",
   "metadata": {},
   "source": [
    "##### Net"
   ]
  },
  {
   "cell_type": "code",
   "execution_count": 8,
   "id": "16ec005d",
   "metadata": {},
   "outputs": [
    {
     "data": {
      "text/plain": [
       "array([[1.       , 0.7987837],\n",
       "       [0.7987837, 1.       ]])"
      ]
     },
     "execution_count": 8,
     "metadata": {},
     "output_type": "execute_result"
    }
   ],
   "source": [
    "season_net = np.corrcoef([df['ADJOE']-df['ADJDE']], df['PRE_PC'])\n",
    "season_net"
   ]
  },
  {
   "cell_type": "code",
   "execution_count": 9,
   "id": "da857a7d",
   "metadata": {},
   "outputs": [
    {
     "data": {
      "image/png": "[encoded data removed]",
      "text/plain": [
       "<Figure size 432x288 with 1 Axes>"
      ]
     },
     "metadata": {
      "needs_background": "light"
     },
     "output_type": "display_data"
    }
   ],
   "source": [
    "plt.scatter([df['ADJOE']-df['ADJDE']], df['PRE_PC'])\n",
    "plt.xlabel(\"Net Efficiency\")\n",
    "plt.ylabel(\"Win Rate before Tournament\")\n",
    "plt.show()"
   ]
  },
  {
   "cell_type": "markdown",
   "id": "bfec3574",
   "metadata": {},
   "source": [
    "With a coefficient closer in absolute value to 1, we can see offense is more strongly related to winning percentage than is defense. However, when we use the net difference between offensive and defensive rating, we get a significantly stronger relationship still. Having so much stronger of a relationship in the net rating means that a team is better off improving both their offense and defense, rather than focusing on just one."
   ]
  },
  {
   "cell_type": "markdown",
   "id": "14f0facf",
   "metadata": {},
   "source": [
    "#### 2. Team efficiency vs postseason performance"
   ]
  },
  {
   "cell_type": "markdown",
   "id": "e51696b4",
   "metadata": {},
   "source": [
    "##### Offense"
   ]
  },
  {
   "cell_type": "code",
   "execution_count": 10,
   "id": "5675af8a",
   "metadata": {},
   "outputs": [
    {
     "data": {
      "text/plain": [
       "array([[1.        , 0.56060972],\n",
       "       [0.56060972, 1.        ]])"
      ]
     },
     "execution_count": 10,
     "metadata": {},
     "output_type": "execute_result"
    }
   ],
   "source": [
    "post_off = np.corrcoef(df['ADJOE'], df['PFPC'])\n",
    "post_off"
   ]
  },
  {
   "cell_type": "code",
   "execution_count": 11,
   "id": "285cae12",
   "metadata": {},
   "outputs": [
    {
     "data": {
      "image/png": "[encoded data removed]",
      "text/plain": [
       "<Figure size 432x288 with 1 Axes>"
      ]
     },
     "metadata": {
      "needs_background": "light"
     },
     "output_type": "display_data"
    }
   ],
   "source": [
    "plt.scatter(df['ADJOE'], df['PFPC'])\n",
    "plt.xlabel(\"Offensive Efficiency\")\n",
    "plt.ylabel(\"Tournament Performance Index\")\n",
    "plt.show()"
   ]
  },
  {
   "cell_type": "markdown",
   "id": "2ec00fef",
   "metadata": {},
   "source": [
    "##### Defense"
   ]
  },
  {
   "cell_type": "code",
   "execution_count": 12,
   "id": "f9fd0e88",
   "metadata": {},
   "outputs": [
    {
     "data": {
      "text/plain": [
       "array([[ 1.        , -0.50678327],\n",
       "       [-0.50678327,  1.        ]])"
      ]
     },
     "execution_count": 12,
     "metadata": {},
     "output_type": "execute_result"
    }
   ],
   "source": [
    "post_def = np.corrcoef(df['ADJDE'], df['PFPC'])\n",
    "post_def"
   ]
  },
  {
   "cell_type": "code",
   "execution_count": 13,
   "id": "91acc02b",
   "metadata": {},
   "outputs": [
    {
     "data": {
      "image/png": "[encoded data removed]",
      "text/plain": [
       "<Figure size 432x288 with 1 Axes>"
      ]
     },
     "metadata": {
      "needs_background": "light"
     },
     "output_type": "display_data"
    }
   ],
   "source": [
    "plt.scatter(df['ADJDE'], df['PFPC'])\n",
    "plt.xlabel(\"Defensive Efficiency\")\n",
    "plt.ylabel(\"Tournament Performance Index\")\n",
    "plt.show()"
   ]
  },
  {
   "cell_type": "markdown",
   "id": "277792b4",
   "metadata": {},
   "source": [
    "##### Net"
   ]
  },
  {
   "cell_type": "code",
   "execution_count": 14,
   "id": "14acca7d",
   "metadata": {},
   "outputs": [
    {
     "data": {
      "text/plain": [
       "array([[1.       , 0.6209838],\n",
       "       [0.6209838, 1.       ]])"
      ]
     },
     "execution_count": 14,
     "metadata": {},
     "output_type": "execute_result"
    }
   ],
   "source": [
    "post_net = np.corrcoef([df['ADJOE']-df['ADJDE']], df['PFPC'])\n",
    "post_net"
   ]
  },
  {
   "cell_type": "code",
   "execution_count": 15,
   "id": "87ef7ba8",
   "metadata": {},
   "outputs": [
    {
     "data": {
      "image/png": "[encoded data removed]",
      "text/plain": [
       "<Figure size 432x288 with 1 Axes>"
      ]
     },
     "metadata": {
      "needs_background": "light"
     },
     "output_type": "display_data"
    }
   ],
   "source": [
    "plt.scatter([df['ADJOE']-df['ADJDE']], df['PFPC'])\n",
    "plt.xlabel(\"Net Efficiency\")\n",
    "plt.ylabel(\"Tournament Performance Index\")\n",
    "plt.show()"
   ]
  },
  {
   "cell_type": "markdown",
   "id": "c1ad119a",
   "metadata": {},
   "source": [
    "As in part 1, offense is more strongly related to winning percentage than is defense, and net rating has the strongest relationship of all. While the correlation coefficients appear significantly weaker than in part 1, this is primarily due to the significant stratifying of data in the PFPC column. If we were to study this relationship further, it would be advantageous if not necessary to find a better variable to reflect postseason achievement.\n",
    "\n",
    "### Conclusions\n",
    "\n",
    "_Answers_: In an either/or case, offense is more likely than defense to lead to a team's success. If we look at teams that excel in both aspects though, we unsurprisingly find that excellence in both has the strongest relationship to winning."
   ]
  },
  {
   "cell_type": "markdown",
   "id": "13cca3fb",
   "metadata": {},
   "source": [
    "## Question 3\n",
    "\n",
    "### Is there a bias toward the \"Major\" conferences (ACC, Big East, Big Ten, Big 12, Pac-12, SEC) in how the postseason tournament is seeded?\n",
    " 1. Do non-major teams on average need to have a higher power ranking than major teams in order to earn a top-4 seed?\n",
    " 2. Do non-major teams of comparable power ranking to major teams achieve comparable postseason success?  \n",
    "\n",
    "If the answer is Yes to both questions, it would indicate a bias in favor of the major teams, since they earn better seeds despite equal performance\n",
    "\n"
   ]
  },
  {
   "cell_type": "code",
   "execution_count": 7,
   "id": "5824b767",
   "metadata": {},
   "outputs": [],
   "source": [
    "majors = ['ACC', 'BE', 'B10', 'B12', 'P12', 'SEC']"
   ]
  },
  {
   "cell_type": "markdown",
   "id": "e5561acc",
   "metadata": {},
   "source": [
    "#### 1. Average power rankings of top-4 seeds"
   ]
  },
  {
   "cell_type": "code",
   "execution_count": 8,
   "id": "0c540964",
   "metadata": {},
   "outputs": [],
   "source": [
    "# Subset the major conference top seeds and non-major conference top seeds.\n",
    "# df_maj_t4 = Major conf\n",
    "# df_nmj_t4 = Non-major conf\n",
    "\n",
    "df_maj_t4 = df[(df['CONF'].isin(majors)) & (df['SEED'].isin([1,2,3,4]))]\n",
    "df_nmj_t4 = df[~(df['CONF'].isin(majors)) & (df['SEED'].isin([1,2,3,4]))]"
   ]
  },
  {
   "cell_type": "code",
   "execution_count": 9,
   "id": "d4a51d9d",
   "metadata": {},
   "outputs": [
    {
     "name": "stdout",
     "output_type": "stream",
     "text": [
      "Average Power Ranking for top-4 seeds:\n",
      "\tMajor conference:\t 0.9364\n",
      "\tNon-major conference:\t 0.9313\n",
      "\n",
      "Average Offensive Effiency for top-4 seeds:\n",
      "\tMajor conference:\t 117.8929\n",
      "\tNon-major conference:\t 115.7923\n",
      "\n",
      "Average Defensive Efficiency for top-4 seeds:\n",
      "\tMajor conference:\t 92.601\n",
      "\tNon-major conference:\t 91.1692\n"
     ]
    }
   ],
   "source": [
    "# Use dataframe method to get the average value for each of power ranking, offensive efficiency, and defensive efficiency.\n",
    "# We print these values on successive lines to easily compare.\n",
    "\n",
    "print(\"Average Power Ranking for top-4 seeds:\")\n",
    "print(\"\\tMajor conference:\\t\", df_maj_t4['BARTHAG'].mean().round(4))\n",
    "print(\"\\tNon-major conference:\\t\", df_nmj_t4['BARTHAG'].mean().round(4))\n",
    "\n",
    "print(\"\\nAverage Offensive Effiency for top-4 seeds:\")\n",
    "print(\"\\tMajor conference:\\t\", df_maj_t4['ADJOE'].mean().round(4))\n",
    "print(\"\\tNon-major conference:\\t\", df_nmj_t4['ADJOE'].mean().round(4))\n",
    "\n",
    "print(\"\\nAverage Defensive Efficiency for top-4 seeds:\")\n",
    "print(\"\\tMajor conference:\\t\", df_maj_t4['ADJDE'].mean().round(4))\n",
    "print(\"\\tNon-major conference:\\t\", df_nmj_t4['ADJDE'].mean().round(4))\n"
   ]
  },
  {
   "cell_type": "markdown",
   "id": "f1201dc9",
   "metadata": {},
   "source": [
    "#### 2. Average postseason result of top-4 seeds"
   ]
  },
  {
   "cell_type": "code",
   "execution_count": 10,
   "id": "61f1c2d8",
   "metadata": {},
   "outputs": [
    {
     "name": "stdout",
     "output_type": "stream",
     "text": [
      "Average Postseason Performance Result for top-4 seeds:\n",
      "\tMajor conference:\t 0.9441\n",
      "\tNon-major conference:\t 0.9285\n"
     ]
    }
   ],
   "source": [
    "# Again use the mean() method to easily see how well major and non-major conferences do on average,\n",
    "# and compare the two values.\n",
    "\n",
    "print(\"Average Postseason Performance Result for top-4 seeds:\")\n",
    "print(\"\\tMajor conference:\\t\", df_maj_t4['PFPC'].mean().round(4))\n",
    "print(\"\\tNon-major conference:\\t\", df_nmj_t4['PFPC'].mean().round(4))"
   ]
  },
  {
   "cell_type": "code",
   "execution_count": 11,
   "id": "4202801c",
   "metadata": {},
   "outputs": [
    {
     "data": {
      "text/html": [
       "<div>\n",
       "<style scoped>\n",
       "    .dataframe tbody tr th:only-of-type {\n",
       "        vertical-align: middle;\n",
       "    }\n",
       "\n",
       "    .dataframe tbody tr th {\n",
       "        vertical-align: top;\n",
       "    }\n",
       "\n",
       "    .dataframe thead th {\n",
       "        text-align: right;\n",
       "    }\n",
       "</style>\n",
       "<table border=\"1\" class=\"dataframe\">\n",
       "  <thead>\n",
       "    <tr style=\"text-align: right;\">\n",
       "      <th></th>\n",
       "      <th>Major Conf</th>\n",
       "      <th>Non-Major Conf</th>\n",
       "    </tr>\n",
       "  </thead>\n",
       "  <tbody>\n",
       "    <tr>\n",
       "      <th>Power Ranking</th>\n",
       "      <td>0.9364</td>\n",
       "      <td>0.9313</td>\n",
       "    </tr>\n",
       "    <tr>\n",
       "      <th>Offensive Eff</th>\n",
       "      <td>117.8929</td>\n",
       "      <td>115.7923</td>\n",
       "    </tr>\n",
       "    <tr>\n",
       "      <th>Defensive Eff</th>\n",
       "      <td>92.6010</td>\n",
       "      <td>91.1692</td>\n",
       "    </tr>\n",
       "    <tr>\n",
       "      <th>Postseason Percentile</th>\n",
       "      <td>0.9441</td>\n",
       "      <td>0.9285</td>\n",
       "    </tr>\n",
       "  </tbody>\n",
       "</table>\n",
       "</div>"
      ],
      "text/plain": [
       "                       Major Conf  Non-Major Conf\n",
       "Power Ranking              0.9364          0.9313\n",
       "Offensive Eff            117.8929        115.7923\n",
       "Defensive Eff             92.6010         91.1692\n",
       "Postseason Percentile      0.9441          0.9285"
      ]
     },
     "execution_count": 11,
     "metadata": {},
     "output_type": "execute_result"
    }
   ],
   "source": [
    "# For an alternative view, we put the same values in the preceding cells into a simple table.\n",
    "\n",
    "data = [[df_maj_t4['BARTHAG'].mean().round(4), df_nmj_t4['BARTHAG'].mean().round(4)],\n",
    "        [df_maj_t4['ADJOE'].mean().round(4), df_nmj_t4['ADJOE'].mean().round(4)],\n",
    "        [df_maj_t4['ADJDE'].mean().round(4), df_nmj_t4['ADJDE'].mean().round(4)],\n",
    "        [df_maj_t4['PFPC'].mean().round(4), df_nmj_t4['PFPC'].mean().round(4)]]\n",
    "\n",
    "columns = ('Major Conf', 'Non-Major Conf')\n",
    "rows = ['Power Ranking', 'Offensive Eff', 'Defensive Eff', 'Postseason Percentile']\n",
    "\n",
    "top4 = pd.DataFrame(data=data, index=rows, columns=columns)\n",
    "top4"
   ]
  },
  {
   "cell_type": "markdown",
   "id": "dd0ab339",
   "metadata": {},
   "source": [
    "### Conclusions\n",
    "\n",
    "Major conferences have, on average, a better power ranking, better offense, and worse defense than Non-major conferences. The Majors also have a noticeably, though not extremely, better finish in the postseason tournament on average. Since Major conference teams are superior in two of the three statistical rankings and follow that up with superior postseason performance, there would not appear to be any bias in awarding top seeds to the Major teams that earn them. In fact, considering that Non-major teams usually do not advance as far as Major teams in the tournament, one would more easily argue that it is the Non-majors who have a bias in their favor.\n",
    "\n",
    "_Answer_: There is not evidence of any bias in favor on Major conference teams when seeding the postseasons tournament."
   ]
  },
  {
   "cell_type": "markdown",
   "id": "426ae8d3",
   "metadata": {},
   "source": [
    "# Overall Conclusions\n",
    "\n",
    "We examined where to find the best offenses and defenses, whether offense or defense leads to more wins, and whether teams from Major conferences are at in advantage when earning seeds into the postseason tournament.\n",
    "\n",
    "In our findings, the Major conferences produced the best offenses and defenses, with the Big 12 and ACC being particularly strong in both regards. We also saw that stronger offensive teams usually have a better advantage toward winning than stronger defensive teams. Finally, we saw that Major conference teams are usually stronger than their Non-major counterparts in the statistical categories AND in postseason performance.\n",
    "\n",
    "Drawing on these findings, we see that the Major conferences have higher performance throughout a college basketball season."
   ]
  },
  {
   "cell_type": "code",
   "execution_count": null,
   "id": "3c5eb59c",
   "metadata": {},
   "outputs": [],
   "source": []
  }
 ],
 "metadata": {
  "kernelspec": {
   "display_name": "Python 3",
   "language": "python",
   "name": "python3"
  },
  "language_info": {
   "codemirror_mode": {
    "name": "ipython",
    "version": 3
   },
   "file_extension": ".py",
   "mimetype": "text/x-python",
   "name": "python",
   "nbconvert_exporter": "python",
   "pygments_lexer": "ipython3",
   "version": "3.7.9"
  }
 },
 "nbformat": 4,
 "nbformat_minor": 5
}
